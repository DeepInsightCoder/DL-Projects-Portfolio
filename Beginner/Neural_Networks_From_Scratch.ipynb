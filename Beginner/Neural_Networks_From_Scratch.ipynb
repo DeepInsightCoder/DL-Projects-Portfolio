{
 "cells": [
  {
   "cell_type": "markdown",
   "id": "4c7b9e79-416c-4463-89c0-9606f02d82d5",
   "metadata": {},
   "source": [
    "# --- Neural Network from Scratch using NumPy ---\n",
    "\n",
    "This notebook demonstrates how to build a simple feedforward neural network from scratch using NumPy.\n",
    "We will solve a basic binary classification problem (AND logic gate)."
   ]
  },
  {
   "cell_type": "code",
   "execution_count": null,
   "id": "35860afd-cb13-43d0-b900-f946c41c4c09",
   "metadata": {},
   "outputs": [],
   "source": [
    "# Import Libraries\n",
    "import numpy as np\n",
    "\n",
    "# Sigmoid Activation Function\n",
    "def sigmoid(x):\n",
    "    return 1 / (1 + np.exp(-x))\n",
    "\n",
    "def sigmoid_derivative(x):\n",
    "    return x * (1 - x)\n",
    "\n",
    "# Input Data (AND Gate)\n",
    "X = np.array([\n",
    "    [0, 0],\n",
    "    [0, 1],\n",
    "    [1, 0],\n",
    "    [1, 1]\n",
    "])"
   ]
  },
  {
   "cell_type": "code",
   "execution_count": null,
   "id": "ff391e68-7b85-4d47-818d-89fe517213c0",
   "metadata": {},
   "outputs": [],
   "source": [
    "# Output Labels\n",
    "y = np.array([[0], [0], [0], [1]])\n",
    "\n",
    "# Initialize Weights and Biases\n",
    "np.random.seed(1)  # for reproducibility\n",
    "input_layer_neurons = X.shape[1]   # 2 features\n",
    "hidden_layer_neurons = 2\n",
    "output_neurons = 1\n",
    "\n",
    "# Weights\n",
    "wh = np.random.uniform(size=(input_layer_neurons, hidden_layer_neurons))  # (2x2)\n",
    "bh = np.random.uniform(size=(1, hidden_layer_neurons))\n",
    "\n",
    "wout = np.random.uniform(size=(hidden_layer_neurons, output_neurons))  # (2x1)\n",
    "bout = np.random.uniform(size=(1, output_neurons))"
   ]
  },
  {
   "cell_type": "code",
   "execution_count": null,
   "id": "47815638-c003-4faf-b68d-ec8e93660f4e",
   "metadata": {},
   "outputs": [],
   "source": [
    "# Training the Network\n",
    "epochs = 10000\n",
    "learning_rate = 0.1\n",
    "for epoch in range(epochs):\n",
    "    # FORWARD PROPAGATION\n",
    "    hidden_input = np.dot(X, wh) + bh\n",
    "    hidden_output = sigmoid(hidden_input)\n",
    "\n",
    "    final_input = np.dot(hidden_output, wout) + bout\n",
    "    final_output = sigmoid(final_input)\n",
    "\n",
    "    # BACKWARD PROPAGATION\n",
    "    error = y - final_output\n",
    "    d_output = error * sigmoid_derivative(final_output)\n",
    "\n",
    "    error_hidden = d_output.dot(wout.T)\n",
    "    d_hidden = error_hidden * sigmoid_derivative(hidden_output)\n",
    "\n",
    "    # Updating Weights and Biases\n",
    "    wout += hidden_output.T.dot(d_output) * learning_rate\n",
    "    bout += np.sum(d_output, axis=0, keepdims=True) * learning_rate\n",
    "\n",
    "    wh += X.T.dot(d_hidden) * learning_rate\n",
    "    bh += np.sum(d_hidden, axis=0, keepdims=True) * learning_rate\n",
    "\n",
    "    # Print Loss occasionally\n",
    "    if epoch % 1000 == 0:\n",
    "        loss = np.mean(np.abs(error))\n",
    "        print(f\"Epoch {epoch}, Loss: {loss:.4f}\")\n",
    "\n",
    "# Final Predictions\n",
    "print(\"\\nPredictions after training:\")\n",
    "print(final_output)"
   ]
  },
  {
   "cell_type": "markdown",
   "id": "1ad22630-9f59-40fd-a3cd-e4d99a817479",
   "metadata": {},
   "source": [
    "#  Summary:\n",
    "This simple 2-layer neural network learns the AND logic gate by adjusting weights and biases\n",
    "through forward and backward propagation. The model is built entirely from scratch using NumPy."
   ]
  },
  {
   "cell_type": "code",
   "execution_count": null,
   "id": "c71a80c8-5a69-4c98-98ca-4cf1cebc6701",
   "metadata": {},
   "outputs": [],
   "source": []
  }
 ],
 "metadata": {
  "kernelspec": {
   "display_name": "Python 3 (ipykernel)",
   "language": "python",
   "name": "python3"
  },
  "language_info": {
   "codemirror_mode": {
    "name": "ipython",
    "version": 3
   },
   "file_extension": ".py",
   "mimetype": "text/x-python",
   "name": "python",
   "nbconvert_exporter": "python",
   "pygments_lexer": "ipython3",
   "version": "3.11.7"
  }
 },
 "nbformat": 4,
 "nbformat_minor": 5
}
