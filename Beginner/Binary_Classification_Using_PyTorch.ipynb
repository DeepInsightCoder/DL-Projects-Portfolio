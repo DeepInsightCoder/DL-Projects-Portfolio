{
  "nbformat": 4,
  "nbformat_minor": 0,
  "metadata": {
    "colab": {
      "provenance": []
    },
    "kernelspec": {
      "name": "python3",
      "display_name": "Python 3"
    },
    "language_info": {
      "name": "python"
    }
  },
  "cells": [
    {
      "cell_type": "markdown",
      "source": [
        "# ---  Binary Classification with PyTorch ---\n",
        "\n",
        "This notebook demonstrates how to perform binary classification using PyTorch.\n",
        "We will classify points from two classes generated using sklearn's make_classification."
      ],
      "metadata": {
        "id": "cTupeeB-P3ew"
      }
    },
    {
      "cell_type": "code",
      "source": [
        "# Import Libraries\n",
        "import torch\n",
        "import torch.nn as nn\n",
        "import torch.optim as optim\n",
        "from sklearn.datasets import make_classification\n",
        "from sklearn.model_selection import train_test_split\n",
        "from sklearn.preprocessing import StandardScaler\n",
        "from sklearn.metrics import accuracy_score\n",
        "\n",
        "# Generate Dataset\n",
        "X, y = make_classification(n_samples=1000, n_features=2, n_informative=2,\n",
        "                           n_redundant=0, n_clusters_per_class=1, random_state=42)\n",
        "\n",
        "# Train-Test Split\n",
        "X_train, X_test, y_train, y_test = train_test_split(X, y, test_size=0.2, random_state=42)\n",
        "\n",
        "# Standardize Features\n",
        "scaler = StandardScaler()\n",
        "X_train = scaler.fit_transform(X_train)\n",
        "X_test = scaler.transform(X_test)\n",
        "\n",
        "# Convert to Tensors\n",
        "X_train = torch.tensor(X_train, dtype=torch.float32)\n",
        "X_test = torch.tensor(X_test, dtype=torch.float32)\n",
        "y_train = torch.tensor(y_train.reshape(-1, 1), dtype=torch.float32)\n",
        "y_test = torch.tensor(y_test.reshape(-1, 1), dtype=torch.float32)"
      ],
      "metadata": {
        "id": "Z3rki1SXPdsZ"
      },
      "execution_count": 2,
      "outputs": []
    },
    {
      "cell_type": "code",
      "source": [
        "# Define Model\n",
        "class BinaryClassifier(nn.Module):\n",
        "    def __init__(self):\n",
        "        super(BinaryClassifier, self).__init__()\n",
        "        self.layer_1 = nn.Linear(2, 4)\n",
        "        self.layer_2 = nn.Linear(4, 1)\n",
        "        self.sigmoid = nn.Sigmoid()\n",
        "\n",
        "    def forward(self, x):\n",
        "        x = torch.relu(self.layer_1(x))\n",
        "        x = self.sigmoid(self.layer_2(x))\n",
        "        return x\n",
        "\n",
        "model = BinaryClassifier()\n",
        "\n",
        "#  Loss and Optimizer\n",
        "criterion = nn.BCELoss()\n",
        "optimizer = optim.Adam(model.parameters(), lr=0.01)\n",
        "\n",
        "# Train Model\n",
        "epochs = 100\n",
        "for epoch in range(epochs):\n",
        "    model.train()\n",
        "    outputs = model(X_train)\n",
        "    loss = criterion(outputs, y_train)\n",
        "\n",
        "    optimizer.zero_grad()\n",
        "    loss.backward()\n",
        "    optimizer.step()\n",
        "\n",
        "    if epoch % 10 == 0:\n",
        "        print(f\"Epoch {epoch}, Loss: {loss.item():.4f}\")\n",
        "\n",
        "# Evaluate Model\n",
        "model.eval()\n",
        "with torch.no_grad():\n",
        "    predictions = model(X_test)\n",
        "    predicted_classes = (predictions > 0.5).float()\n",
        "    accuracy = accuracy_score(y_test, predicted_classes)\n",
        "    print(f\"Test Accuracy: {accuracy:.4f}\")"
      ],
      "metadata": {
        "colab": {
          "base_uri": "https://localhost:8080/"
        },
        "id": "F555UrxsPdvA",
        "outputId": "885a3ed9-b627-4f71-81fe-70983a87cce4"
      },
      "execution_count": 3,
      "outputs": [
        {
          "output_type": "stream",
          "name": "stdout",
          "text": [
            "Epoch 0, Loss: 0.7015\n",
            "Epoch 10, Loss: 0.6032\n",
            "Epoch 20, Loss: 0.5192\n",
            "Epoch 30, Loss: 0.4459\n",
            "Epoch 40, Loss: 0.3818\n",
            "Epoch 50, Loss: 0.3294\n",
            "Epoch 60, Loss: 0.2894\n",
            "Epoch 70, Loss: 0.2593\n",
            "Epoch 80, Loss: 0.2363\n",
            "Epoch 90, Loss: 0.2188\n",
            "Test Accuracy: 0.9100\n"
          ]
        }
      ]
    },
    {
      "cell_type": "markdown",
      "source": [
        "# Summary:\n",
        "\n",
        "This notebook shows how to build a binary classifier using PyTorch, including custom neural network class,\n",
        "loss function, training loop, and evaluation with accuracy score."
      ],
      "metadata": {
        "id": "cL625jDIQBIR"
      }
    }
  ]
}